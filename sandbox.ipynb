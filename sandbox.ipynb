{
 "cells": [
  {
   "cell_type": "code",
   "execution_count": 1,
   "metadata": {},
   "outputs": [
    {
     "data": {
      "text/plain": [
       "1"
      ]
     },
     "execution_count": 1,
     "metadata": {},
     "output_type": "execute_result"
    }
   ],
   "source": [
    "\n",
    "# Store documents in Qdrant\n",
    "if all_documents:\n",
    "    print(f\"Creating vector store with {len(all_documents)} document chunks\")\n",
    "    \n",
    "    # Delete collection if it exists to start fresh\n",
    "    try:\n",
    "        client.delete_collection(COLLECTION_NAME)\n",
    "        print(f\"Deleted existing collection '{COLLECTION_NAME}'\")\n",
    "    except Exception:\n",
    "        pass  # Collection doesn't exist yet\n",
    "    \n",
    "    # Create texts and metadata for embedding\n",
    "    texts = [doc.page_content for doc in all_documents]\n",
    "    metadatas = [doc.metadata for doc in all_documents]\n",
    "    \n",
    "    # Use Qdrant's from_texts method\n",
    "    vector_store = QdrantVectorStore.from_texts(\n",
    "        texts=texts,\n",
    "        embedding=embeddings,\n",
    "        metadatas=metadatas,\n",
    "        url=QDRANT_URL,\n",
    "        collection_name=COLLECTION_NAME,\n",
    "        force_recreate=True\n",
    "    )\n",
    "    \n",
    "    print(f\"Successfully created embeddings and stored them in Qdrant collection '{COLLECTION_NAME}'\")\n",
    "    return vector_store\n",
    "else:\n",
    "    print(\"No documents were processed.\")\n",
    "    return None\n"
   ]
  },
  {
   "cell_type": "code",
   "execution_count": 18,
   "metadata": {},
   "outputs": [
    {
     "name": "stdout",
     "output_type": "stream",
     "text": [
      "  - Extracted 2 chunks from /Users/ryan/workshop/langchain-agentic-rag/shared/apple-berry-crisp.pdf\n"
     ]
    }
   ],
   "source": [
    "import os\n",
    "import glob\n",
    "from dotenv import load_dotenv\n",
    "from langchain_community.document_loaders import PyPDFLoader\n",
    "from langchain.text_splitter import RecursiveCharacterTextSplitter\n",
    "from langchain_ollama import OllamaEmbeddings\n",
    "from langchain_qdrant import QdrantVectorStore\n",
    "from qdrant_client import QdrantClient\n",
    "\n",
    "# Load environment variables\n",
    "load_dotenv()\n",
    "\n",
    "# Constants\n",
    "PDF_DIRECTORY = \"/Users/ryan/workshop/langchain-agentic-rag/shared\"\n",
    "COLLECTION_NAME = \"documents\"\n",
    "CHUNK_SIZE = 2000\n",
    "CHUNK_OVERLAP = 200\n",
    "EMBEDDING_MODEL = \"nomic-embed-text\"  # Matches what was used in n8n workflow\n",
    "QDRANT_URL = \"http://localhost:6333\"  # Default for local Qdrant\n",
    "\n",
    "# Find all PDF files in the directory\n",
    "pdf_files = glob.glob(f\"{PDF_DIRECTORY}/*.pdf\")\n",
    "\n",
    "# Initialize embeddings model\n",
    "embeddings = OllamaEmbeddings(model=EMBEDDING_MODEL)\n",
    "\n",
    "# Initialize Qdrant client for collection management\n",
    "client = QdrantClient(url=QDRANT_URL)\n",
    "\n",
    "# Initialize text splitter\n",
    "text_splitter = RecursiveCharacterTextSplitter(\n",
    "    chunk_size=CHUNK_SIZE,\n",
    "    chunk_overlap=CHUNK_OVERLAP\n",
    ")\n",
    "\n",
    "# Process each PDF file\n",
    "all_documents = []\n",
    "\n",
    "pdf_file = pdf_files[1]\n",
    "# Load the PDF\n",
    "loader = PyPDFLoader(pdf_file, mode=\"single\")\n",
    "documents = loader.load()\n",
    "\n",
    "# Split the document into chunks\n",
    "split_documents = text_splitter.split_documents(documents)\n",
    "\n",
    "print(f\"  - Extracted {len(split_documents)} chunks from {pdf_file}\")\n",
    "\n",
    "# Add to our collection\n",
    "all_documents.extend(split_documents)\n",
    "    "
   ]
  },
  {
   "cell_type": "code",
   "execution_count": 19,
   "metadata": {},
   "outputs": [
    {
     "data": {
      "text/plain": [
       "1993"
      ]
     },
     "execution_count": 19,
     "metadata": {},
     "output_type": "execute_result"
    }
   ],
   "source": [
    "all_documents[0].page_content"
   ]
  },
  {
   "cell_type": "code",
   "execution_count": 20,
   "metadata": {},
   "outputs": [
    {
     "data": {
      "text/plain": [
       "949"
      ]
     },
     "execution_count": 20,
     "metadata": {},
     "output_type": "execute_result"
    }
   ],
   "source": [
    "len(all_documents[1].page_content)"
   ]
  },
  {
   "cell_type": "code",
   "execution_count": 21,
   "metadata": {},
   "outputs": [
    {
     "data": {
      "text/plain": [
       "[Document(metadata={'producer': 'Qt 4.8.7', 'creator': 'wkhtmltopdf 0.12.6', 'creationdate': '2023-06-05T12:24:40-07:00', 'title': \"Apple berry crisp - Canada's Food Guide\", 'source': '/Users/ryan/workshop/langchain-agentic-rag/shared/apple-berry-crisp.pdf', 'total_pages': 7}, page_content=\"FR\\nMENU \\nCanada.ca\\n \\n \\nHealth\\n \\n \\nFood and nutrition\\n \\n \\nCanada's food guide\\n \\n \\nTips for healthy eating\\n \\n \\nMeal planning and cooking\\n \\n \\nRecipes\\nSearch Canada.ca\\n\\ue003\\n\\ue114\\n>\\n>\\n>\\n>\\n>\\n>\\nCanada’s\\nfood\\nguide\\nApple berry crisp\\nVegetarian\\nThis irresistible recipe showcases the wonderful combination of apples and\\nblueberries. Enjoy it warm on its own or with a small dollop of yogurt. Perfect for\\ndessert or as a snack with a glass of water, white milk or unsweetened fortiﬁed soy\\nbeverage.\\nIngredients\\n4 apples, cored and chopped\\n500 mL (2 cups) frozen or fresh blueberries\\n45 mL (3 tbsp) packed brown sugar\\n30 mL (2 tbsp) all purpose ﬂour\\nPrep time\\n15 min\\nCook time\\n50 min\\nServings\\n8\\n\\x0c5 mL (1 tsp) vanilla\\nTopping:\\n250 mL (1 cup) large ﬂake oats\\n125 mL (½ cup) all purpose ﬂour\\n85 mL (⅓ cup) wheat bran\\n30 mL (2 tbsp) packed brown sugar\\n2 mL (½ tsp) ground cinnamon\\n45 mL (3 tbsp) soft non-hydrogenated margarine, melted\\nDirections\\nLearn about \\nfood safety\\n.\\nRecipe developed by Emily Richards, P.H. Ec. for Health Canada and the \\nHeart and\\nStroke Foundation.\\nPreheat the oven to 180 °C (350 °F).\\n1\\nIn a large bowl, combine apples, blueberries, sugar, ﬂour and vanilla and stir\\nuntil well-coated. Spread into a 20 cm/8 in square baking dish; set aside.\\n2\\nPrepare the topping: In another bowl, combine oats, ﬂour, wheat bran, sugar and\\ncinnamon. Add melted margarine and using a fork, toss to coat oat mixture.\\nSprinkle over top of fruit mixture.\\n3\\nBake for about 50 minutes or until apples are tender and the top is golden. Let\\ncool slightly before serving.\\n4\\nPrint, save or share this recipe\\nFind a recipe...\\nSearch\\n\\x0cTips\\nThis is a fun recipe for the whole family to make. Little chefs can stir the\\ntopping ingredients together. Older kids can slice the apples.\\nUse fruits you have at home. Instead of apple and blueberry, try pears and\\nraspberries.\\nMore from the Food Guide Kitchen\\nNo-bake oat granola bars\\n\\x0c10 reasons to buy frozen vegetables and fruits\\n\\x0cSubscribe to get the\\nlatest healthy eating\\nupdates.\\nSign up now\\nBe mindful of your eating habits\\nDid you ﬁnd what you were looking for?\\nYes\\nNo\\n\\x0cDate modiﬁed:\\n \\n2023-01-03\\nSupport and resources\\nCopyright guidelines\\nOrder food guide resources\\nContact Canada's food guide team\\nStay connected\\n \\n \\n \\n \\nGovernment of Canada\\nAll Contacts\\nDepartments and agencies\\nAbout government\\nJobs\\nImmigration and citizenship\\nTravel and tourism\\nBusiness\\nBeneﬁts\\nHealth\\nTaxes\\nEnvironment and natural resources\\nNational security and defence\\nCulture, history and sport\\nPolicing, justice and emergencies\\nTransport and infrastructure\\nCanada and the world\\nMoney and ﬁnance\\nScience and innovation\\nIndigenous peoples\\nVeterans and military\\nYouth\\n\\x0c•\\n \\nSocial media\\n•\\n \\nMobile applications\\n•\\n \\nAbout Canada.ca\\n•\\n \\nTerms and conditions\\n•\\n \\nPrivacy\\nTop of Page\\n\\ue113\")]"
      ]
     },
     "execution_count": 21,
     "metadata": {},
     "output_type": "execute_result"
    }
   ],
   "source": [
    "documents"
   ]
  },
  {
   "cell_type": "code",
   "execution_count": null,
   "metadata": {},
   "outputs": [],
   "source": []
  }
 ],
 "metadata": {
  "kernelspec": {
   "display_name": "Python 3 (ipykernel)",
   "language": "python",
   "name": "python3"
  },
  "language_info": {
   "codemirror_mode": {
    "name": "ipython",
    "version": 3
   },
   "file_extension": ".py",
   "mimetype": "text/x-python",
   "name": "python",
   "nbconvert_exporter": "python",
   "pygments_lexer": "ipython3",
   "version": "3.11.11"
  }
 },
 "nbformat": 4,
 "nbformat_minor": 2
}
